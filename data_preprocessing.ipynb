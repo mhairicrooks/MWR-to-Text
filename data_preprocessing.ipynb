{
 "cells": [
  {
   "cell_type": "markdown",
   "id": "481c76d0",
   "metadata": {},
   "source": [
    "## Data Preprocessing"
   ]
  },
  {
   "cell_type": "markdown",
   "id": "7fb49a44",
   "metadata": {},
   "source": [
    "### Import Necessary Libraries"
   ]
  },
  {
   "cell_type": "code",
   "execution_count": 5,
   "id": "90c08eac",
   "metadata": {},
   "outputs": [],
   "source": [
    "import pandas as pd\n",
    "import numpy as np\n",
    "from data_loader import DataLoader, DataLoaderSelector\n",
    "from augment_dataset import add_synthetic_conclusions_straightforward"
   ]
  },
  {
   "cell_type": "markdown",
   "id": "07fcfde8",
   "metadata": {},
   "source": [
    "### Load and Clean Dataset"
   ]
  },
  {
   "cell_type": "code",
   "execution_count": 6,
   "id": "8e30903b",
   "metadata": {},
   "outputs": [],
   "source": [
    "mwr = DataLoaderSelector(data_path='data_th_scale.csv')"
   ]
  },
  {
   "cell_type": "markdown",
   "id": "266f1a2e",
   "metadata": {},
   "source": [
    "### Access the Dataframe"
   ]
  },
  {
   "cell_type": "code",
   "execution_count": 26,
   "id": "3e6b77fa",
   "metadata": {},
   "outputs": [],
   "source": [
    "mwr_df = mwr.data_loader.data"
   ]
  },
  {
   "cell_type": "markdown",
   "id": "4ce60529",
   "metadata": {},
   "source": [
    "### Generate Synthetic Descriptions"
   ]
  },
  {
   "cell_type": "markdown",
   "id": "41d7cc8f",
   "metadata": {},
   "source": [
    "#### Straightforward Conclusions"
   ]
  },
  {
   "cell_type": "code",
   "execution_count": 8,
   "id": "e65febda",
   "metadata": {},
   "outputs": [],
   "source": [
    "# Th: Thermal asymmetry with:\n",
    "# 0: no changes\n",
    "# 1: slightly elevated temperature\n",
    "# 2: moderately elevated temperature (surface)\n",
    "# 3: moderately elevated temperature (surface and depth)\n",
    "# 4: increased temperature (surface and depth), partial asymmetry\n",
    "# 5: increased temperature (surface and depth), greater and clear asymmetry"
   ]
  },
  {
   "cell_type": "code",
   "execution_count": 34,
   "id": "bea4b509",
   "metadata": {},
   "outputs": [],
   "source": [
    "# add the straightforward conclusions\n",
    "mwr_df_simple = add_synthetic_conclusions_straightforward(mwr_df)\n"
   ]
  },
  {
   "cell_type": "code",
   "execution_count": 35,
   "id": "824af3b6",
   "metadata": {},
   "outputs": [
    {
     "data": {
      "text/html": [
       "<div>\n",
       "<style scoped>\n",
       "    .dataframe tbody tr th:only-of-type {\n",
       "        vertical-align: middle;\n",
       "    }\n",
       "\n",
       "    .dataframe tbody tr th {\n",
       "        vertical-align: top;\n",
       "    }\n",
       "\n",
       "    .dataframe thead th {\n",
       "        text-align: right;\n",
       "    }\n",
       "</style>\n",
       "<table border=\"1\" class=\"dataframe\">\n",
       "  <thead>\n",
       "    <tr style=\"text-align: right;\">\n",
       "      <th></th>\n",
       "      <th>Examination ID</th>\n",
       "      <th>Conclusion</th>\n",
       "      <th>r:Th</th>\n",
       "      <th>Weight</th>\n",
       "      <th>Height</th>\n",
       "      <th>Ambient temperature</th>\n",
       "      <th>r:AgeInYears</th>\n",
       "      <th>Mammary diameter</th>\n",
       "      <th>Cycle</th>\n",
       "      <th>Day from the first day</th>\n",
       "      <th>...</th>\n",
       "      <th>R8 sk</th>\n",
       "      <th>L8 sk</th>\n",
       "      <th>R9 sk</th>\n",
       "      <th>L9 sk</th>\n",
       "      <th>T1 sk</th>\n",
       "      <th>T2 sk</th>\n",
       "      <th>R0 sk</th>\n",
       "      <th>L0 sk</th>\n",
       "      <th>Conclusion (Tr)</th>\n",
       "      <th>Synthetic_Conclusion</th>\n",
       "    </tr>\n",
       "  </thead>\n",
       "  <tbody>\n",
       "    <tr>\n",
       "      <th>0</th>\n",
       "      <td>00002A00010B1</td>\n",
       "      <td>temperatura v v predelu mastektomije je nekoli...</td>\n",
       "      <td>0</td>\n",
       "      <td>0</td>\n",
       "      <td>0</td>\n",
       "      <td>22</td>\n",
       "      <td>43</td>\n",
       "      <td>17</td>\n",
       "      <td>28</td>\n",
       "      <td>16</td>\n",
       "      <td>...</td>\n",
       "      <td>32.7</td>\n",
       "      <td>31.4</td>\n",
       "      <td>33.8</td>\n",
       "      <td>32.6</td>\n",
       "      <td>33.1</td>\n",
       "      <td>32.9</td>\n",
       "      <td>33.3</td>\n",
       "      <td>31.6</td>\n",
       "      <td>The temperature in the area of the mastectomy ...</td>\n",
       "      <td>No thermal changes detected.</td>\n",
       "    </tr>\n",
       "    <tr>\n",
       "      <th>1</th>\n",
       "      <td>00002A00010C1</td>\n",
       "      <td>v desni dojki je temperatura lepo razporejena ...</td>\n",
       "      <td>0</td>\n",
       "      <td>0</td>\n",
       "      <td>0</td>\n",
       "      <td>22</td>\n",
       "      <td>45</td>\n",
       "      <td>20</td>\n",
       "      <td>30</td>\n",
       "      <td>9</td>\n",
       "      <td>...</td>\n",
       "      <td>32.8</td>\n",
       "      <td>31.5</td>\n",
       "      <td>33.2</td>\n",
       "      <td>32.6</td>\n",
       "      <td>32.5</td>\n",
       "      <td>33.2</td>\n",
       "      <td>33.3</td>\n",
       "      <td>31.4</td>\n",
       "      <td>In the right breast, the temperature is well d...</td>\n",
       "      <td>No thermal changes detected.</td>\n",
       "    </tr>\n",
       "    <tr>\n",
       "      <th>2</th>\n",
       "      <td>00002A00023C1</td>\n",
       "      <td>1/ razporeditev temperature je asimetrična, ve...</td>\n",
       "      <td>1</td>\n",
       "      <td>0</td>\n",
       "      <td>0</td>\n",
       "      <td>21</td>\n",
       "      <td>53</td>\n",
       "      <td>25</td>\n",
       "      <td>0</td>\n",
       "      <td>-1</td>\n",
       "      <td>...</td>\n",
       "      <td>30.9</td>\n",
       "      <td>30.0</td>\n",
       "      <td>30.5</td>\n",
       "      <td>30.6</td>\n",
       "      <td>31.6</td>\n",
       "      <td>31.8</td>\n",
       "      <td>30.9</td>\n",
       "      <td>31.6</td>\n",
       "      <td>1/ The temperature distribution is asymmetric,...</td>\n",
       "      <td>Slightly elevated temperature.</td>\n",
       "    </tr>\n",
       "    <tr>\n",
       "      <th>3</th>\n",
       "      <td>00002A00037C1</td>\n",
       "      <td>temperatura v obeh dojkah je pravilno porazdel...</td>\n",
       "      <td>0</td>\n",
       "      <td>0</td>\n",
       "      <td>0</td>\n",
       "      <td>25</td>\n",
       "      <td>54</td>\n",
       "      <td>24</td>\n",
       "      <td>0</td>\n",
       "      <td>-1</td>\n",
       "      <td>...</td>\n",
       "      <td>32.0</td>\n",
       "      <td>31.2</td>\n",
       "      <td>32.3</td>\n",
       "      <td>33.0</td>\n",
       "      <td>32.7</td>\n",
       "      <td>32.6</td>\n",
       "      <td>33.4</td>\n",
       "      <td>33.5</td>\n",
       "      <td>The temperature in both breasts is evenly dist...</td>\n",
       "      <td>No thermal changes detected.</td>\n",
       "    </tr>\n",
       "    <tr>\n",
       "      <th>4</th>\n",
       "      <td>00002A00037D1</td>\n",
       "      <td>dojki sta srednje veliki, mehki, rahlo vozliča...</td>\n",
       "      <td>0</td>\n",
       "      <td>0</td>\n",
       "      <td>0</td>\n",
       "      <td>23</td>\n",
       "      <td>55</td>\n",
       "      <td>25</td>\n",
       "      <td>0</td>\n",
       "      <td>-1</td>\n",
       "      <td>...</td>\n",
       "      <td>31.4</td>\n",
       "      <td>31.7</td>\n",
       "      <td>33.3</td>\n",
       "      <td>32.5</td>\n",
       "      <td>33.6</td>\n",
       "      <td>33.4</td>\n",
       "      <td>33.7</td>\n",
       "      <td>33.1</td>\n",
       "      <td>The breasts are medium-sized, soft, slightly n...</td>\n",
       "      <td>No thermal changes detected.</td>\n",
       "    </tr>\n",
       "  </tbody>\n",
       "</table>\n",
       "<p>5 rows × 60 columns</p>\n",
       "</div>"
      ],
      "text/plain": [
       "  Examination ID                                         Conclusion  r:Th  \\\n",
       "0  00002A00010B1  temperatura v v predelu mastektomije je nekoli...     0   \n",
       "1  00002A00010C1  v desni dojki je temperatura lepo razporejena ...     0   \n",
       "2  00002A00023C1  1/ razporeditev temperature je asimetrična, ve...     1   \n",
       "3  00002A00037C1  temperatura v obeh dojkah je pravilno porazdel...     0   \n",
       "4  00002A00037D1  dojki sta srednje veliki, mehki, rahlo vozliča...     0   \n",
       "\n",
       "   Weight  Height  Ambient temperature  r:AgeInYears  Mammary diameter  Cycle  \\\n",
       "0       0       0                   22            43                17     28   \n",
       "1       0       0                   22            45                20     30   \n",
       "2       0       0                   21            53                25      0   \n",
       "3       0       0                   25            54                24      0   \n",
       "4       0       0                   23            55                25      0   \n",
       "\n",
       "   Day from the first day  ...  R8 sk  L8 sk  R9 sk  L9 sk  T1 sk  T2 sk  \\\n",
       "0                      16  ...   32.7   31.4   33.8   32.6   33.1   32.9   \n",
       "1                       9  ...   32.8   31.5   33.2   32.6   32.5   33.2   \n",
       "2                      -1  ...   30.9   30.0   30.5   30.6   31.6   31.8   \n",
       "3                      -1  ...   32.0   31.2   32.3   33.0   32.7   32.6   \n",
       "4                      -1  ...   31.4   31.7   33.3   32.5   33.6   33.4   \n",
       "\n",
       "   R0 sk  L0 sk                                    Conclusion (Tr)  \\\n",
       "0   33.3   31.6  The temperature in the area of the mastectomy ...   \n",
       "1   33.3   31.4  In the right breast, the temperature is well d...   \n",
       "2   30.9   31.6  1/ The temperature distribution is asymmetric,...   \n",
       "3   33.4   33.5  The temperature in both breasts is evenly dist...   \n",
       "4   33.7   33.1  The breasts are medium-sized, soft, slightly n...   \n",
       "\n",
       "             Synthetic_Conclusion  \n",
       "0    No thermal changes detected.  \n",
       "1    No thermal changes detected.  \n",
       "2  Slightly elevated temperature.  \n",
       "3    No thermal changes detected.  \n",
       "4    No thermal changes detected.  \n",
       "\n",
       "[5 rows x 60 columns]"
      ]
     },
     "execution_count": 35,
     "metadata": {},
     "output_type": "execute_result"
    }
   ],
   "source": [
    "mwr_df_simple.head()\n"
   ]
  },
  {
   "cell_type": "markdown",
   "id": "4d1bdfa5",
   "metadata": {},
   "source": [
    "### Save New Dataframe"
   ]
  },
  {
   "cell_type": "code",
   "execution_count": 36,
   "id": "17243ce1",
   "metadata": {},
   "outputs": [],
   "source": [
    "mwr_df_simple.to_csv('mwr_simple.csv', index=False)"
   ]
  }
 ],
 "metadata": {
  "language_info": {
   "name": "python"
  }
 },
 "nbformat": 4,
 "nbformat_minor": 5
}
