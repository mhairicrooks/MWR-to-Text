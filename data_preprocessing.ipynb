{
 "cells": [
  {
   "cell_type": "markdown",
   "id": "481c76d0",
   "metadata": {},
   "source": [
    "## Data Preprocessing"
   ]
  },
  {
   "cell_type": "markdown",
   "id": "7fb49a44",
   "metadata": {},
   "source": [
    "#### Import Necessary Libraries"
   ]
  },
  {
   "cell_type": "code",
   "execution_count": 1,
   "id": "90c08eac",
   "metadata": {},
   "outputs": [],
   "source": [
    "import pandas as pd\n",
    "import numpy as np\n",
    "from data_loader import DataLoader, DataLoaderSelector"
   ]
  },
  {
   "cell_type": "markdown",
   "id": "07fcfde8",
   "metadata": {},
   "source": [
    "#### Load and Clean Dataset"
   ]
  },
  {
   "cell_type": "code",
   "execution_count": 2,
   "id": "8e30903b",
   "metadata": {},
   "outputs": [],
   "source": [
    "mwr = DataLoaderSelector(data_path='data_th_scale.csv')"
   ]
  },
  {
   "cell_type": "markdown",
   "id": "4ce60529",
   "metadata": {},
   "source": [
    "#### Generate Synthetic Descriptions"
   ]
  },
  {
   "cell_type": "markdown",
   "id": "41d7cc8f",
   "metadata": {},
   "source": [
    "#### Straightforward Conclusions"
   ]
  },
  {
   "cell_type": "code",
   "execution_count": 3,
   "id": "e65febda",
   "metadata": {},
   "outputs": [],
   "source": [
    "# Th: Thermal asymmetry with:\n",
    "# 0: no changes\n",
    "# 1: slightly elevated temperature\n",
    "# 2: moderately elevated temperature (surface)\n",
    "# 3: moderately elevated temperature (surface and depth)\n",
    "# 4: increased temperature (surface and depth), partial asymmetry\n",
    "# 5: increased temperature (surface and depth), greater and clear asymmetry"
   ]
  }
 ],
 "metadata": {
  "language_info": {
   "name": "python"
  }
 },
 "nbformat": 4,
 "nbformat_minor": 5
}
