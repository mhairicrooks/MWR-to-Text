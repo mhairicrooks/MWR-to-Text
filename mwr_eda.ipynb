{
 "cells": [
  {
   "cell_type": "markdown",
   "id": "456673bb",
   "metadata": {},
   "source": [
    "## Exploratory Data Analysis"
   ]
  },
  {
   "cell_type": "markdown",
   "id": "2849e9d7",
   "metadata": {},
   "source": [
    "#### Import Necessary Libraries"
   ]
  },
  {
   "cell_type": "code",
   "execution_count": 21,
   "id": "5a02a853",
   "metadata": {},
   "outputs": [],
   "source": [
    "import pandas as pd\n",
    "import numpy as np\n",
    "import matplotlib.pyplot as plt\n",
    "import seaborn as sns\n",
    "from data_loader import DataLoader, DataLoaderSelector"
   ]
  },
  {
   "cell_type": "markdown",
   "id": "2c943619",
   "metadata": {},
   "source": [
    "#### Load Dataset"
   ]
  },
  {
   "cell_type": "code",
   "execution_count": 15,
   "id": "0a270ee8",
   "metadata": {},
   "outputs": [],
   "source": [
    "mwr = DataLoaderSelector(data_path='data_th_scale.csv')"
   ]
  },
  {
   "cell_type": "markdown",
   "id": "8752a209",
   "metadata": {},
   "source": [
    "#### Dataset Overview"
   ]
  },
  {
   "cell_type": "code",
   "execution_count": 16,
   "id": "bb75b766",
   "metadata": {},
   "outputs": [
    {
     "name": "stdout",
     "output_type": "stream",
     "text": [
      "=== DATASET OVERVIEW ===\n",
      "Dataset shape: (24236, 59)\n",
      "Columns: 59\n",
      "\n",
      "Column names:\n",
      "['Examination ID', 'Conclusion', 'r:Th', 'Weight', 'Height', 'Ambient temperature', 'r:AgeInYears', 'Mammary diameter', 'Cycle', 'Day from the first day', 'Hormonal medications', 'Cancer family history', 'Breast operations', 'Num of pregnancies', 'R1 int', 'L1 int', 'R2 int', 'L2 int', 'R3 int', 'L3 int', 'R4 int', 'L4 int', 'R5 int', 'L5 int', 'R6 int', 'L6 int', 'R7 int', 'L7 int', 'R8 int', 'L8 int', 'R9 int', 'L9 int', 'T1 int', 'T2 int', 'R0 int', 'L0 int', 'R1 sk', 'L1 sk', 'R2 sk', 'L2 sk', 'R3 sk', 'L3 sk', 'R4 sk', 'L4 sk', 'R5 sk', 'L5 sk', 'R6 sk', 'L6 sk', 'R7 sk', 'L7 sk', 'R8 sk', 'L8 sk', 'R9 sk', 'L9 sk', 'T1 sk', 'T2 sk', 'R0 sk', 'L0 sk', 'Conclusion (Tr)']\n"
     ]
    }
   ],
   "source": [
    "print(\"=== DATASET OVERVIEW ===\")\n",
    "print(f\"Dataset shape: {mwr.data_loader.data.shape}\")\n",
    "print(f\"Columns: {len(mwr.data_loader.data.columns)}\")\n",
    "print(\"\\nColumn names:\")\n",
    "print(mwr.data_loader.data.columns.tolist())"
   ]
  },
  {
   "cell_type": "markdown",
   "id": "99088a40",
   "metadata": {},
   "source": [
    "#### Thermal Asymmetry Distribution"
   ]
  },
  {
   "cell_type": "code",
   "execution_count": 19,
   "id": "9733afaf",
   "metadata": {},
   "outputs": [
    {
     "name": "stdout",
     "output_type": "stream",
     "text": [
      "\n",
      "=== THERMAL ASYMMETRY DISTRIBUTION ===\n",
      "Th scale distribution:\n",
      "r:Th\n",
      "0    5845\n",
      "1    7006\n",
      "2    7137\n",
      "3     727\n",
      "4    1947\n",
      "5    1574\n",
      "Name: count, dtype: int64\n"
     ]
    },
    {
     "data": {
      "image/png": "[encoded data removed]",
      "text/plain": [
       "<Figure size 800x600 with 1 Axes>"
      ]
     },
     "metadata": {},
     "output_type": "display_data"
    }
   ],
   "source": [
    "print(\"\\n=== THERMAL ASYMMETRY DISTRIBUTION ===\")\n",
    "print(\"Th scale distribution:\")\n",
    "print(mwr.data_loader.data['r:Th'].value_counts().sort_index())\n",
    "\n",
    "th_counts = mwr.data_loader.data['r:Th'].value_counts().sort_index()\n",
    "\n",
    "# Plot distribution\n",
    "plt.figure(figsize=(8, 6))\n",
    "plt.bar(th_counts.index, th_counts.values, color='skyblue')\n",
    "plt.xlabel('Th Scale')\n",
    "plt.ylabel('Count')\n",
    "plt.title('Thermal Asymmetry (Th) Scale Distribution')\n",
    "plt.xticks(rotation=45)  # if index labels are long\n",
    "plt.tight_layout()\n",
    "plt.show()"
   ]
  },
  {
   "cell_type": "markdown",
   "id": "51499bc0",
   "metadata": {},
   "source": [
    "#### Clinical Text Availability"
   ]
  },
  {
   "cell_type": "code",
   "execution_count": null,
   "id": "4156370d",
   "metadata": {},
   "outputs": [
    {
     "name": "stdout",
     "output_type": "stream",
     "text": [
      "\n",
      "=== CLINICAL TEXT AVAILABILITY ===\n",
      "Translated conclusions available:\n",
      "Total entries: 24236\n",
      "Non-null text entries: 24236\n",
      "Missing text entries: 0\n",
      "\n",
      "Sample clinical descriptions:\n",
      "1. The temperature in the area of the mastectomy is slightly higher than in the area of the left breast, but the difference between the deep and superficial values indicates rest or absence of proliferation. In the left breast, at the border of the lower quadrants, there is a typical hardening approximately 5mm in size, which is not thermally active. I recommend monitoring at one-month intervals. Otherwise, a follow-up in 6 months.\n",
      "2. In the right breast, the temperature is well distributed and does not deviate from the average. In the left breast, a cooler area is visible around the nipple, specifically 0.9 degrees, which is still within normal limits. The left breast is also quite nodular, particularly in the cooler area and at the boundary of the outer quadrants. I recommend self-examination once a month and a systematic check-up in one year or sooner if necessary.\n",
      "3. 1/ The temperature distribution is asymmetric, but there are no signs of local hyperthermia in the breasts. I recommend regular self-examinations, a clinical examination by an oncologist within one year, and a systematic examination in one year.\n"
     ]
    }
   ],
   "source": [
    "print(\"\\n=== CLINICAL TEXT AVAILABILITY ===\")\n",
    "if 'Conclusion (Tr)' in mwr.data_loader.data.columns:\n",
    "    print(\"Translated conclusions available:\")\n",
    "    print(f\"Total entries: {len(mwr.data_loader.data)}\")\n",
    "    print(f\"Non-null text entries: {mwr.data_loader.data['Conclusion (Tr)'].notna().sum()}\")\n",
    "    print(f\"Missing text entries: {mwr.data_loader.data['Conclusion (Tr)'].isna().sum()}\")\n",
    "    \n",
    "    # Show some examples\n",
    "    print(\"\\nSample clinical descriptions:\")\n",
    "    sample_texts = mwr.data_loader.data['Conclusion (Tr)'].dropna().head(3)\n",
    "    for i, text in enumerate(sample_texts, 1):\n",
    "        print(f\"{i}. {text}\")\n",
    "else:\n",
    "    print(\"No 'Conclusion (Tr)' column found\")"
   ]
  },
  {
   "cell_type": "markdown",
   "id": "0202352b",
   "metadata": {},
   "source": [
    "#### Looking at Processed Data"
   ]
  },
  {
   "cell_type": "code",
   "execution_count": 8,
   "id": "f987fb58",
   "metadata": {},
   "outputs": [
    {
     "name": "stdout",
     "output_type": "stream",
     "text": [
      "\n",
      "=== GETTING PROCESSED DATA ===\n",
      "Features (X) shape: (24236, 48)\n",
      "Classification labels (y_class) shape: (24236,)\n",
      "Text labels (y_text) shape: (24236,)\n",
      "\n",
      "Feature columns (48):\n",
      "['L0 int', 'L1 int', 'L2 int', 'L3 int', 'L4 int', 'L5 int', 'L6 int', 'L7 int', 'L8 int', 'L9 int', 'R0 int', 'R1 int', 'R2 int', 'R3 int', 'R4 int', 'R5 int', 'R6 int', 'R7 int', 'R8 int', 'R9 int', 'L0 sk', 'L1 sk', 'L2 sk', 'L3 sk', 'L4 sk', 'L5 sk', 'L6 sk', 'L7 sk', 'L8 sk', 'L9 sk', 'R0 sk', 'R1 sk', 'R2 sk', 'R3 sk', 'R4 sk', 'R5 sk', 'R6 sk', 'R7 sk', 'R8 sk', 'R9 sk', 'L9 int', 'R9 int', 'L9 sk', 'R9 sk', 'T1 int', 'T2 int', 'T1 sk', 'T2 sk']\n",
      "\n",
      "Sample feature values (first patient):\n",
      "L0 int    34.7\n",
      "L1 int    35.2\n",
      "L2 int    35.3\n",
      "L3 int    35.1\n",
      "L4 int    34.8\n",
      "L5 int    35.3\n",
      "L6 int    35.4\n",
      "L7 int    35.3\n",
      "L8 int    34.9\n",
      "L9 int    35.0\n",
      "Name: 0, dtype: float64\n"
     ]
    }
   ],
   "source": [
    "print(\"\\n=== GETTING PROCESSED DATA ===\")\n",
    "try:\n",
    "    X, y_class, y_text = mwr.get_data(\n",
    "        gland='both',\n",
    "        surface='both', \n",
    "        use_ref_values=True,\n",
    "        use_axillary_values=True,\n",
    "        use_age=False,\n",
    "        text_column='Conclusion (Tr)'\n",
    "    )\n",
    "    \n",
    "    print(f\"Features (X) shape: {X.shape}\")\n",
    "    print(f\"Classification labels (y_class) shape: {y_class.shape}\")\n",
    "    print(f\"Text labels (y_text) shape: {y_text.shape}\")\n",
    "    \n",
    "    print(f\"\\nFeature columns ({len(X.columns)}):\")\n",
    "    print(X.columns.tolist())\n",
    "    \n",
    "    print(f\"\\nSample feature values (first patient):\")\n",
    "    print(X.iloc[0].head(10))\n",
    "    \n",
    "except Exception as e:\n",
    "    print(f\"Error getting data: {e}\")"
   ]
  },
  {
   "cell_type": "markdown",
   "id": "733e60d3",
   "metadata": {},
   "source": [
    "#### Data Quality Check"
   ]
  },
  {
   "cell_type": "code",
   "execution_count": 10,
   "id": "f2883299",
   "metadata": {},
   "outputs": [
    {
     "name": "stdout",
     "output_type": "stream",
     "text": [
      "\n",
      "=== DATA QUALITY CHECK ===\n",
      "Missing values in features:\n",
      "0\n",
      "Missing values in classification labels:\n",
      "0\n",
      "Missing values in text labels:\n",
      "0\n"
     ]
    }
   ],
   "source": [
    "print(\"\\n=== DATA QUALITY CHECK ===\")\n",
    "print(\"Missing values in features:\")\n",
    "print(X.isnull().sum().sum())\n",
    "print(\"Missing values in classification labels:\")\n",
    "print(y_class.isnull().sum())\n",
    "print(\"Missing values in text labels:\")\n",
    "print(y_text.isnull().sum())"
   ]
  },
  {
   "cell_type": "markdown",
   "id": "063440a1",
   "metadata": {},
   "source": [
    "#### Temperature Statistics"
   ]
  },
  {
   "cell_type": "code",
   "execution_count": 22,
   "id": "c6e3cd76",
   "metadata": {},
   "outputs": [
    {
     "name": "stdout",
     "output_type": "stream",
     "text": [
      "\n",
      "=== TEMPERATURE STATISTICS ===\n",
      "Temperature feature range:\n",
      "Min: 23.20°C\n",
      "Max: 42.00°C\n",
      "Mean: 33.88°C\n"
     ]
    },
    {
     "data": {
      "image/png": "[encoded data removed]",
      "text/plain": [
       "<Figure size 800x500 with 1 Axes>"
      ]
     },
     "metadata": {},
     "output_type": "display_data"
    }
   ],
   "source": [
    "print(\"\\n=== TEMPERATURE STATISTICS ===\")\n",
    "temp_cols = [col for col in X.columns if any(x in col for x in ['int', 'sk'])]\n",
    "print(f\"Temperature feature range:\")\n",
    "print(f\"Min: {X[temp_cols].min().min():.2f}°C\")\n",
    "print(f\"Max: {X[temp_cols].max().max():.2f}°C\")\n",
    "print(f\"Mean: {X[temp_cols].mean().mean():.2f}°C\")\n",
    "\n",
    "# Flatten all temperature values into one series\n",
    "all_temps = X[temp_cols].values.flatten()\n",
    "\n",
    "plt.figure(figsize=(8,5))\n",
    "sns.histplot(all_temps, bins=30, kde=True)\n",
    "plt.title(\"Distribution of Temperature Features\")\n",
    "plt.xlabel(\"Temperature (°C)\")\n",
    "plt.ylabel(\"Frequency\")\n",
    "plt.show()"
   ]
  }
 ],
 "metadata": {
  "kernelspec": {
   "display_name": ".venv",
   "language": "python",
   "name": "python3"
  },
  "language_info": {
   "codemirror_mode": {
    "name": "ipython",
    "version": 3
   },
   "file_extension": ".py",
   "mimetype": "text/x-python",
   "name": "python",
   "nbconvert_exporter": "python",
   "pygments_lexer": "ipython3",
   "version": "3.10.6"
  }
 },
 "nbformat": 4,
 "nbformat_minor": 5
}
